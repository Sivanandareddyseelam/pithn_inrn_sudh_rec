{
 "cells": [
  {
   "cell_type": "markdown",
   "id": "daf08742",
   "metadata": {},
   "source": [
    "# TUPLE"
   ]
  },
  {
   "cell_type": "code",
   "execution_count": 1,
   "id": "372f0df0",
   "metadata": {},
   "outputs": [],
   "source": [
    "t = (2,4,'shs',34.65)"
   ]
  },
  {
   "cell_type": "code",
   "execution_count": 2,
   "id": "fde0f3d0",
   "metadata": {},
   "outputs": [
    {
     "data": {
      "text/plain": [
       "tuple"
      ]
     },
     "execution_count": 2,
     "metadata": {},
     "output_type": "execute_result"
    }
   ],
   "source": [
    "type(t)"
   ]
  },
  {
   "cell_type": "code",
   "execution_count": 3,
   "id": "0d573f92",
   "metadata": {},
   "outputs": [],
   "source": [
    "l = [2,4,'shs',34.65]"
   ]
  },
  {
   "cell_type": "markdown",
   "id": "0a992e7a",
   "metadata": {},
   "source": [
    "type(l)\n",
    "type(t)"
   ]
  },
  {
   "cell_type": "code",
   "execution_count": 7,
   "id": "a2165bc7",
   "metadata": {},
   "outputs": [
    {
     "data": {
      "text/plain": [
       "[2, 4]"
      ]
     },
     "execution_count": 7,
     "metadata": {},
     "output_type": "execute_result"
    }
   ],
   "source": [
    "l[0:2]"
   ]
  },
  {
   "cell_type": "code",
   "execution_count": 9,
   "id": "0653ca44",
   "metadata": {},
   "outputs": [
    {
     "data": {
      "text/plain": [
       "(2, 4)"
      ]
     },
     "execution_count": 9,
     "metadata": {},
     "output_type": "execute_result"
    }
   ],
   "source": [
    "t[0:2]"
   ]
  },
  {
   "cell_type": "code",
   "execution_count": 10,
   "id": "58fe7901",
   "metadata": {},
   "outputs": [
    {
     "data": {
      "text/plain": [
       "(34.65, 'shs', 4, 2)"
      ]
     },
     "execution_count": 10,
     "metadata": {},
     "output_type": "execute_result"
    }
   ],
   "source": [
    "t[::-1]  #reverse the elements"
   ]
  },
  {
   "cell_type": "code",
   "execution_count": 11,
   "id": "1184f6b5",
   "metadata": {},
   "outputs": [
    {
     "data": {
      "text/plain": [
       "(2, 4, 'shs', 34.65)"
      ]
     },
     "execution_count": 11,
     "metadata": {},
     "output_type": "execute_result"
    }
   ],
   "source": [
    "t"
   ]
  },
  {
   "cell_type": "code",
   "execution_count": 12,
   "id": "6e661e69",
   "metadata": {},
   "outputs": [
    {
     "data": {
      "text/plain": [
       "(2, 'shs')"
      ]
     },
     "execution_count": 12,
     "metadata": {},
     "output_type": "execute_result"
    }
   ],
   "source": [
    "t[::2]"
   ]
  },
  {
   "cell_type": "code",
   "execution_count": 13,
   "id": "0685d142",
   "metadata": {},
   "outputs": [],
   "source": [
    "l1=[3,4,5,6,8]"
   ]
  },
  {
   "cell_type": "code",
   "execution_count": 14,
   "id": "19edb1e3",
   "metadata": {},
   "outputs": [
    {
     "data": {
      "text/plain": [
       "[2, 4, 'shs', 34.65]"
      ]
     },
     "execution_count": 14,
     "metadata": {},
     "output_type": "execute_result"
    }
   ],
   "source": [
    "l"
   ]
  },
  {
   "cell_type": "code",
   "execution_count": 15,
   "id": "6d2d5bc9",
   "metadata": {},
   "outputs": [
    {
     "data": {
      "text/plain": [
       "[3, 4, 5, 6, 8]"
      ]
     },
     "execution_count": 15,
     "metadata": {},
     "output_type": "execute_result"
    }
   ],
   "source": [
    "l1"
   ]
  },
  {
   "cell_type": "code",
   "execution_count": 16,
   "id": "ae144a0e",
   "metadata": {},
   "outputs": [],
   "source": [
    "l[0]='siva'   #item reassignment"
   ]
  },
  {
   "cell_type": "code",
   "execution_count": 17,
   "id": "31a8442f",
   "metadata": {},
   "outputs": [
    {
     "data": {
      "text/plain": [
       "['siva', 4, 'shs', 34.65]"
      ]
     },
     "execution_count": 17,
     "metadata": {},
     "output_type": "execute_result"
    }
   ],
   "source": [
    "l"
   ]
  },
  {
   "cell_type": "code",
   "execution_count": 18,
   "id": "97dac7eb",
   "metadata": {},
   "outputs": [
    {
     "data": {
      "text/plain": [
       "(2, 4, 'shs', 34.65)"
      ]
     },
     "execution_count": 18,
     "metadata": {},
     "output_type": "execute_result"
    }
   ],
   "source": [
    "t"
   ]
  },
  {
   "cell_type": "code",
   "execution_count": 19,
   "id": "5544a6c2",
   "metadata": {},
   "outputs": [
    {
     "ename": "TypeError",
     "evalue": "'tuple' object does not support item assignment",
     "output_type": "error",
     "traceback": [
      "\u001b[1;31m---------------------------------------------------------------------------\u001b[0m",
      "\u001b[1;31mTypeError\u001b[0m                                 Traceback (most recent call last)",
      "Input \u001b[1;32mIn [19]\u001b[0m, in \u001b[0;36m<cell line: 1>\u001b[1;34m()\u001b[0m\n\u001b[1;32m----> 1\u001b[0m t[\u001b[38;5;241m0\u001b[39m]\u001b[38;5;241m=\u001b[39m\u001b[38;5;124m'\u001b[39m\u001b[38;5;124msiva\u001b[39m\u001b[38;5;124m'\u001b[39m\n",
      "\u001b[1;31mTypeError\u001b[0m: 'tuple' object does not support item assignment"
     ]
    }
   ],
   "source": [
    "t[0]='siva'   #immutable item reassignment is not possible"
   ]
  },
  {
   "cell_type": "code",
   "execution_count": 20,
   "id": "62984b43",
   "metadata": {},
   "outputs": [],
   "source": [
    "t1 =('siva',5,86.95)"
   ]
  },
  {
   "cell_type": "code",
   "execution_count": 21,
   "id": "b2c48f58",
   "metadata": {},
   "outputs": [
    {
     "data": {
      "text/plain": [
       "('siva', 5, 86.95)"
      ]
     },
     "execution_count": 21,
     "metadata": {},
     "output_type": "execute_result"
    }
   ],
   "source": [
    "t1"
   ]
  },
  {
   "cell_type": "code",
   "execution_count": 22,
   "id": "f77c58e2",
   "metadata": {},
   "outputs": [
    {
     "data": {
      "text/plain": [
       "(2, 4, 'shs', 34.65)"
      ]
     },
     "execution_count": 22,
     "metadata": {},
     "output_type": "execute_result"
    }
   ],
   "source": [
    "t"
   ]
  },
  {
   "cell_type": "code",
   "execution_count": 23,
   "id": "7726fdf1",
   "metadata": {},
   "outputs": [
    {
     "data": {
      "text/plain": [
       "(2, 4, 'shs', 34.65, 'siva', 5, 86.95)"
      ]
     },
     "execution_count": 23,
     "metadata": {},
     "output_type": "execute_result"
    }
   ],
   "source": [
    "t+t1    #append operation possible in tuple"
   ]
  },
  {
   "cell_type": "code",
   "execution_count": 24,
   "id": "405b14b0",
   "metadata": {},
   "outputs": [
    {
     "data": {
      "text/plain": [
       "('siva', 5, 86.95, 'siva', 5, 86.95)"
      ]
     },
     "execution_count": 24,
     "metadata": {},
     "output_type": "execute_result"
    }
   ],
   "source": [
    "t1*2"
   ]
  },
  {
   "cell_type": "code",
   "execution_count": 26,
   "id": "a2d074dc",
   "metadata": {},
   "outputs": [
    {
     "data": {
      "text/plain": [
       "1"
      ]
     },
     "execution_count": 26,
     "metadata": {},
     "output_type": "execute_result"
    }
   ],
   "source": [
    "t.count(2)"
   ]
  },
  {
   "cell_type": "code",
   "execution_count": 27,
   "id": "f53c500e",
   "metadata": {},
   "outputs": [
    {
     "data": {
      "text/plain": [
       "0"
      ]
     },
     "execution_count": 27,
     "metadata": {},
     "output_type": "execute_result"
    }
   ],
   "source": [
    "t1.index('siva')"
   ]
  },
  {
   "cell_type": "markdown",
   "id": "2380df17",
   "metadata": {},
   "source": [
    "When we have to use tuple and list?\n",
    "\n",
    "Tuple: whereever the data won't be changed."
   ]
  },
  {
   "cell_type": "code",
   "execution_count": 29,
   "id": "3fc9dddf",
   "metadata": {},
   "outputs": [],
   "source": [
    "t2 =(3,6,74,('sgs',444,437.768)) #tuple inside tuple"
   ]
  },
  {
   "cell_type": "code",
   "execution_count": 30,
   "id": "222e2877",
   "metadata": {},
   "outputs": [],
   "source": [
    "t3 =(['sshs',64,7464],(4,7,7),'skgf')  #list inside tuple"
   ]
  },
  {
   "cell_type": "raw",
   "id": "c8f5c13a",
   "metadata": {},
   "source": [
    "Item assignment is possible to list within the tuple"
   ]
  },
  {
   "cell_type": "code",
   "execution_count": 31,
   "id": "881a63cd",
   "metadata": {},
   "outputs": [
    {
     "data": {
      "text/plain": [
       "['sshs', 64, 7464]"
      ]
     },
     "execution_count": 31,
     "metadata": {},
     "output_type": "execute_result"
    }
   ],
   "source": [
    "t3[0]"
   ]
  },
  {
   "cell_type": "code",
   "execution_count": 32,
   "id": "2e032d7c",
   "metadata": {},
   "outputs": [],
   "source": [
    "t3[0][1]='fhf'"
   ]
  },
  {
   "cell_type": "code",
   "execution_count": 33,
   "id": "7e86723f",
   "metadata": {},
   "outputs": [
    {
     "data": {
      "text/plain": [
       "(['sshs', 'fhf', 7464], (4, 7, 7), 'skgf')"
      ]
     },
     "execution_count": 33,
     "metadata": {},
     "output_type": "execute_result"
    }
   ],
   "source": [
    "t3"
   ]
  },
  {
   "cell_type": "code",
   "execution_count": 34,
   "id": "89522c09",
   "metadata": {},
   "outputs": [
    {
     "ename": "TypeError",
     "evalue": "can only concatenate tuple (not \"list\") to tuple",
     "output_type": "error",
     "traceback": [
      "\u001b[1;31m---------------------------------------------------------------------------\u001b[0m",
      "\u001b[1;31mTypeError\u001b[0m                                 Traceback (most recent call last)",
      "Input \u001b[1;32mIn [34]\u001b[0m, in \u001b[0;36m<cell line: 1>\u001b[1;34m()\u001b[0m\n\u001b[1;32m----> 1\u001b[0m \u001b[43mt\u001b[49m\u001b[38;5;241;43m+\u001b[39;49m\u001b[43ml\u001b[49m\n",
      "\u001b[1;31mTypeError\u001b[0m: can only concatenate tuple (not \"list\") to tuple"
     ]
    }
   ],
   "source": [
    "t+l  #heterogenious data types won't be concatinate"
   ]
  },
  {
   "cell_type": "markdown",
   "id": "d81899fc",
   "metadata": {},
   "source": [
    "# SET   unique elements"
   ]
  },
  {
   "cell_type": "code",
   "execution_count": 35,
   "id": "e51d1b7e",
   "metadata": {},
   "outputs": [],
   "source": [
    "l=[4,3,4,634,2,3,3,8,8,5,6,48]"
   ]
  },
  {
   "cell_type": "code",
   "execution_count": 36,
   "id": "1428fd0f",
   "metadata": {},
   "outputs": [
    {
     "data": {
      "text/plain": [
       "{2, 3, 4, 5, 6, 8, 48, 634}"
      ]
     },
     "execution_count": 36,
     "metadata": {},
     "output_type": "execute_result"
    }
   ],
   "source": [
    "set(l)   #removes all duplicates "
   ]
  },
  {
   "cell_type": "code",
   "execution_count": 37,
   "id": "193cb306",
   "metadata": {},
   "outputs": [],
   "source": [
    "s = {}  #without elements in {} treated as dictionary"
   ]
  },
  {
   "cell_type": "code",
   "execution_count": 38,
   "id": "8c29ca3e",
   "metadata": {},
   "outputs": [
    {
     "data": {
      "text/plain": [
       "dict"
      ]
     },
     "execution_count": 38,
     "metadata": {},
     "output_type": "execute_result"
    }
   ],
   "source": [
    "type(s)"
   ]
  },
  {
   "cell_type": "code",
   "execution_count": 39,
   "id": "0409f1c0",
   "metadata": {},
   "outputs": [],
   "source": [
    "s1 = {3,3,6,5.8,9} #with elements in {} treated as set"
   ]
  },
  {
   "cell_type": "code",
   "execution_count": 40,
   "id": "0e5a42c7",
   "metadata": {},
   "outputs": [
    {
     "data": {
      "text/plain": [
       "set"
      ]
     },
     "execution_count": 40,
     "metadata": {},
     "output_type": "execute_result"
    }
   ],
   "source": [
    "type(s1)"
   ]
  },
  {
   "cell_type": "code",
   "execution_count": 41,
   "id": "38f84195",
   "metadata": {},
   "outputs": [
    {
     "data": {
      "text/plain": [
       "{3, 5.8, 6, 9}"
      ]
     },
     "execution_count": 41,
     "metadata": {},
     "output_type": "execute_result"
    }
   ],
   "source": [
    "s1"
   ]
  },
  {
   "cell_type": "code",
   "execution_count": 43,
   "id": "3af4baf7",
   "metadata": {},
   "outputs": [
    {
     "data": {
      "text/plain": [
       "{3, 5.8, 6, 9}"
      ]
     },
     "execution_count": 43,
     "metadata": {},
     "output_type": "execute_result"
    }
   ],
   "source": [
    "s1"
   ]
  },
  {
   "cell_type": "markdown",
   "id": "0d6d2c11",
   "metadata": {},
   "source": [
    "SET is unordered collection"
   ]
  },
  {
   "cell_type": "code",
   "execution_count": 45,
   "id": "cf990ea8",
   "metadata": {},
   "outputs": [
    {
     "ename": "TypeError",
     "evalue": "'set' object is not subscriptable",
     "output_type": "error",
     "traceback": [
      "\u001b[1;31m---------------------------------------------------------------------------\u001b[0m",
      "\u001b[1;31mTypeError\u001b[0m                                 Traceback (most recent call last)",
      "Input \u001b[1;32mIn [45]\u001b[0m, in \u001b[0;36m<cell line: 1>\u001b[1;34m()\u001b[0m\n\u001b[1;32m----> 1\u001b[0m \u001b[43ms1\u001b[49m\u001b[43m[\u001b[49m\u001b[38;5;241;43m0\u001b[39;49m\u001b[43m:\u001b[49m\u001b[38;5;241;43m2\u001b[39;49m\u001b[43m]\u001b[49m\n",
      "\u001b[1;31mTypeError\u001b[0m: 'set' object is not subscriptable"
     ]
    }
   ],
   "source": [
    "s1[0:2]"
   ]
  },
  {
   "cell_type": "code",
   "execution_count": 46,
   "id": "3623df5d",
   "metadata": {},
   "outputs": [
    {
     "data": {
      "text/plain": [
       "{3, 5.8, 6, 9}"
      ]
     },
     "execution_count": 46,
     "metadata": {},
     "output_type": "execute_result"
    }
   ],
   "source": [
    "s1"
   ]
  },
  {
   "cell_type": "code",
   "execution_count": 47,
   "id": "48e814f2",
   "metadata": {},
   "outputs": [],
   "source": [
    "s1.add('dhd')"
   ]
  },
  {
   "cell_type": "code",
   "execution_count": 48,
   "id": "d4b12246",
   "metadata": {},
   "outputs": [
    {
     "data": {
      "text/plain": [
       "{3, 5.8, 6, 9, 'dhd'}"
      ]
     },
     "execution_count": 48,
     "metadata": {},
     "output_type": "execute_result"
    }
   ],
   "source": [
    "s1"
   ]
  },
  {
   "cell_type": "code",
   "execution_count": 49,
   "id": "4adf7f07",
   "metadata": {},
   "outputs": [
    {
     "ename": "TypeError",
     "evalue": "unhashable type: 'list'",
     "output_type": "error",
     "traceback": [
      "\u001b[1;31m---------------------------------------------------------------------------\u001b[0m",
      "\u001b[1;31mTypeError\u001b[0m                                 Traceback (most recent call last)",
      "Input \u001b[1;32mIn [49]\u001b[0m, in \u001b[0;36m<cell line: 1>\u001b[1;34m()\u001b[0m\n\u001b[1;32m----> 1\u001b[0m \u001b[43ms1\u001b[49m\u001b[38;5;241;43m.\u001b[39;49m\u001b[43madd\u001b[49m\u001b[43m(\u001b[49m\u001b[43m[\u001b[49m\u001b[38;5;241;43m3\u001b[39;49m\u001b[43m,\u001b[49m\u001b[38;5;241;43m5\u001b[39;49m\u001b[43m,\u001b[49m\u001b[38;5;124;43m'\u001b[39;49m\u001b[38;5;124;43mgfh\u001b[39;49m\u001b[38;5;124;43m'\u001b[39;49m\u001b[43m]\u001b[49m\u001b[43m)\u001b[49m\n",
      "\u001b[1;31mTypeError\u001b[0m: unhashable type: 'list'"
     ]
    }
   ],
   "source": [
    "s1.add([3,5,'gfh']) #set allow only primitive and immutable datatypes "
   ]
  },
  {
   "cell_type": "code",
   "execution_count": 50,
   "id": "0c2705fa",
   "metadata": {},
   "outputs": [],
   "source": [
    "s1.add((3,5,6))"
   ]
  },
  {
   "cell_type": "code",
   "execution_count": 51,
   "id": "53f5aeac",
   "metadata": {},
   "outputs": [
    {
     "data": {
      "text/plain": [
       "{(3, 5, 6), 3, 5.8, 6, 9, 'dhd'}"
      ]
     },
     "execution_count": 51,
     "metadata": {},
     "output_type": "execute_result"
    }
   ],
   "source": [
    "s1"
   ]
  },
  {
   "cell_type": "code",
   "execution_count": 52,
   "id": "1b5902e3",
   "metadata": {},
   "outputs": [
    {
     "ename": "AttributeError",
     "evalue": "'set' object has no attribute 'removee'",
     "output_type": "error",
     "traceback": [
      "\u001b[1;31m---------------------------------------------------------------------------\u001b[0m",
      "\u001b[1;31mAttributeError\u001b[0m                            Traceback (most recent call last)",
      "Input \u001b[1;32mIn [52]\u001b[0m, in \u001b[0;36m<cell line: 1>\u001b[1;34m()\u001b[0m\n\u001b[1;32m----> 1\u001b[0m \u001b[43ms1\u001b[49m\u001b[38;5;241;43m.\u001b[39;49m\u001b[43mremovee\u001b[49m(\u001b[38;5;241m4\u001b[39m)\n",
      "\u001b[1;31mAttributeError\u001b[0m: 'set' object has no attribute 'removee'"
     ]
    }
   ],
   "source": [
    "s1.removee(4)"
   ]
  },
  {
   "cell_type": "code",
   "execution_count": 53,
   "id": "54cf8f8d",
   "metadata": {},
   "outputs": [],
   "source": [
    "s1.remove(3)"
   ]
  },
  {
   "cell_type": "code",
   "execution_count": 54,
   "id": "7beada19",
   "metadata": {},
   "outputs": [
    {
     "data": {
      "text/plain": [
       "{(3, 5, 6), 5.8, 6, 9, 'dhd'}"
      ]
     },
     "execution_count": 54,
     "metadata": {},
     "output_type": "execute_result"
    }
   ],
   "source": [
    "s1"
   ]
  },
  {
   "cell_type": "code",
   "execution_count": 55,
   "id": "19123b48",
   "metadata": {},
   "outputs": [],
   "source": [
    "s1.discard(9)"
   ]
  },
  {
   "cell_type": "code",
   "execution_count": 56,
   "id": "48d9e134",
   "metadata": {},
   "outputs": [
    {
     "data": {
      "text/plain": [
       "{(3, 5, 6), 5.8, 6, 'dhd'}"
      ]
     },
     "execution_count": 56,
     "metadata": {},
     "output_type": "execute_result"
    }
   ],
   "source": [
    "s1"
   ]
  },
  {
   "cell_type": "code",
   "execution_count": 57,
   "id": "400af812",
   "metadata": {},
   "outputs": [],
   "source": [
    "s1.discard(100)"
   ]
  },
  {
   "cell_type": "code",
   "execution_count": 58,
   "id": "57cdec4d",
   "metadata": {},
   "outputs": [
    {
     "data": {
      "text/plain": [
       "{'SIVA', 'siva'}"
      ]
     },
     "execution_count": 58,
     "metadata": {},
     "output_type": "execute_result"
    }
   ],
   "source": [
    "{'siva','SIVA'}"
   ]
  },
  {
   "cell_type": "markdown",
   "id": "e21abcfc",
   "metadata": {},
   "source": [
    "# DICTIONARY"
   ]
  },
  {
   "cell_type": "code",
   "execution_count": 59,
   "id": "2af35f2f",
   "metadata": {},
   "outputs": [],
   "source": [
    "d={}"
   ]
  },
  {
   "cell_type": "code",
   "execution_count": 60,
   "id": "49b69283",
   "metadata": {},
   "outputs": [
    {
     "data": {
      "text/plain": [
       "dict"
      ]
     },
     "execution_count": 60,
     "metadata": {},
     "output_type": "execute_result"
    }
   ],
   "source": [
    "type(d)"
   ]
  },
  {
   "cell_type": "code",
   "execution_count": 61,
   "id": "131b974a",
   "metadata": {},
   "outputs": [],
   "source": [
    "d = {4:'siva'}  # key value pairs"
   ]
  },
  {
   "cell_type": "code",
   "execution_count": 62,
   "id": "6f3f45c8",
   "metadata": {},
   "outputs": [],
   "source": [
    "d1 = {'key1': 446,'key2':'diva',34:[4,66,7]}"
   ]
  },
  {
   "cell_type": "code",
   "execution_count": 63,
   "id": "562ea0e0",
   "metadata": {},
   "outputs": [],
   "source": [
    "l = [4,66,7]"
   ]
  },
  {
   "cell_type": "code",
   "execution_count": 64,
   "id": "8fd44b8a",
   "metadata": {},
   "outputs": [
    {
     "data": {
      "text/plain": [
       "446"
      ]
     },
     "execution_count": 64,
     "metadata": {},
     "output_type": "execute_result"
    }
   ],
   "source": [
    "d1['key1']"
   ]
  },
  {
   "cell_type": "code",
   "execution_count": 65,
   "id": "d2a798eb",
   "metadata": {},
   "outputs": [
    {
     "data": {
      "text/plain": [
       "[4, 66, 7]"
      ]
     },
     "execution_count": 65,
     "metadata": {},
     "output_type": "execute_result"
    }
   ],
   "source": [
    "d1[34]"
   ]
  },
  {
   "cell_type": "code",
   "execution_count": 66,
   "id": "ab05a825",
   "metadata": {},
   "outputs": [
    {
     "data": {
      "text/plain": [
       "66"
      ]
     },
     "execution_count": 66,
     "metadata": {},
     "output_type": "execute_result"
    }
   ],
   "source": [
    "d1[34][1]"
   ]
  },
  {
   "cell_type": "code",
   "execution_count": 67,
   "id": "2306d6eb",
   "metadata": {},
   "outputs": [
    {
     "data": {
      "text/plain": [
       "{4: 'siva'}"
      ]
     },
     "execution_count": 67,
     "metadata": {},
     "output_type": "execute_result"
    }
   ],
   "source": [
    "d"
   ]
  },
  {
   "cell_type": "code",
   "execution_count": 68,
   "id": "518e6003",
   "metadata": {},
   "outputs": [
    {
     "data": {
      "text/plain": [
       "{'key1': 446, 'key2': 'diva', 34: [4, 66, 7]}"
      ]
     },
     "execution_count": 68,
     "metadata": {},
     "output_type": "execute_result"
    }
   ],
   "source": [
    "d1"
   ]
  },
  {
   "cell_type": "code",
   "execution_count": 70,
   "id": "93410ced",
   "metadata": {},
   "outputs": [
    {
     "ename": "SyntaxError",
     "evalue": "unexpected EOF while parsing (1284619088.py, line 1)",
     "output_type": "error",
     "traceback": [
      "\u001b[1;36m  Input \u001b[1;32mIn [70]\u001b[1;36m\u001b[0m\n\u001b[1;33m    d2 = {#:34}\u001b[0m\n\u001b[1;37m               ^\u001b[0m\n\u001b[1;31mSyntaxError\u001b[0m\u001b[1;31m:\u001b[0m unexpected EOF while parsing\n"
     ]
    }
   ],
   "source": [
    "d2 = {#:34}"
   ]
  },
  {
   "cell_type": "code",
   "execution_count": 71,
   "id": "f422e23f",
   "metadata": {},
   "outputs": [],
   "source": [
    "d3 = {_4: 'siva'}"
   ]
  },
  {
   "cell_type": "code",
   "execution_count": 72,
   "id": "ef10e2aa",
   "metadata": {},
   "outputs": [
    {
     "data": {
      "text/plain": [
       "'siva'"
      ]
     },
     "execution_count": 72,
     "metadata": {},
     "output_type": "execute_result"
    }
   ],
   "source": [
    "d3[_4]"
   ]
  },
  {
   "cell_type": "code",
   "execution_count": 73,
   "id": "bb7675b7",
   "metadata": {},
   "outputs": [],
   "source": [
    "d4={'key':(3,5,7)}"
   ]
  },
  {
   "cell_type": "code",
   "execution_count": 74,
   "id": "514f9436",
   "metadata": {},
   "outputs": [],
   "source": [
    "d5 = {'key1':[3,5,5],'key2':'siva','key1':45} # new assignment will update and store"
   ]
  },
  {
   "cell_type": "code",
   "execution_count": 75,
   "id": "896629fe",
   "metadata": {},
   "outputs": [
    {
     "data": {
      "text/plain": [
       "45"
      ]
     },
     "execution_count": 75,
     "metadata": {},
     "output_type": "execute_result"
    }
   ],
   "source": [
    "d5['key1']"
   ]
  },
  {
   "cell_type": "code",
   "execution_count": 76,
   "id": "f56129d6",
   "metadata": {},
   "outputs": [],
   "source": [
    "d6 = {'*+++':'siva'}"
   ]
  },
  {
   "cell_type": "code",
   "execution_count": 77,
   "id": "c2ff2700",
   "metadata": {},
   "outputs": [
    {
     "ename": "SyntaxError",
     "evalue": "invalid syntax (199097506.py, line 1)",
     "output_type": "error",
     "traceback": [
      "\u001b[1;36m  Input \u001b[1;32mIn [77]\u001b[1;36m\u001b[0m\n\u001b[1;33m    d7 = {*++:'siva'}\u001b[0m\n\u001b[1;37m             ^\u001b[0m\n\u001b[1;31mSyntaxError\u001b[0m\u001b[1;31m:\u001b[0m invalid syntax\n"
     ]
    }
   ],
   "source": [
    "d7 = {*++:'siva'}"
   ]
  },
  {
   "cell_type": "code",
   "execution_count": 115,
   "id": "43fcbe07",
   "metadata": {},
   "outputs": [],
   "source": [
    "d8 = {'name':'sivananda','age':24,'mail':'siva@gmail.com','key1':(2,3,5),'key2':[2,64,7],'key3':{'shs',5,3}}"
   ]
  },
  {
   "cell_type": "code",
   "execution_count": 79,
   "id": "482d7051",
   "metadata": {},
   "outputs": [
    {
     "data": {
      "text/plain": [
       "{'name': 'sivananda',\n",
       " 'age': 24,\n",
       " 'mail': 'siva@gmail.com',\n",
       " 'key1': (2, 3, 5),\n",
       " 'key2': [2, 64, 7],\n",
       " 'key3': {3, 5, 'shs'}}"
      ]
     },
     "execution_count": 79,
     "metadata": {},
     "output_type": "execute_result"
    }
   ],
   "source": [
    "d8"
   ]
  },
  {
   "cell_type": "code",
   "execution_count": 80,
   "id": "3d1756b1",
   "metadata": {},
   "outputs": [
    {
     "data": {
      "text/plain": [
       "dict_keys(['name', 'age', 'mail', 'key1', 'key2', 'key3'])"
      ]
     },
     "execution_count": 80,
     "metadata": {},
     "output_type": "execute_result"
    }
   ],
   "source": [
    "d8.keys() #list of all keys"
   ]
  },
  {
   "cell_type": "code",
   "execution_count": 81,
   "id": "e3e076bc",
   "metadata": {},
   "outputs": [
    {
     "data": {
      "text/plain": [
       "dict_values(['sivananda', 24, 'siva@gmail.com', (2, 3, 5), [2, 64, 7], {'shs', 3, 5}])"
      ]
     },
     "execution_count": 81,
     "metadata": {},
     "output_type": "execute_result"
    }
   ],
   "source": [
    "d8.values()  #list of all values"
   ]
  },
  {
   "cell_type": "code",
   "execution_count": 82,
   "id": "f46fe149",
   "metadata": {},
   "outputs": [
    {
     "data": {
      "text/plain": [
       "dict_items([('name', 'sivananda'), ('age', 24), ('mail', 'siva@gmail.com'), ('key1', (2, 3, 5)), ('key2', [2, 64, 7]), ('key3', {'shs', 3, 5})])"
      ]
     },
     "execution_count": 82,
     "metadata": {},
     "output_type": "execute_result"
    }
   ],
   "source": [
    "d8.items()  # list of all key value pairs in tuple formate"
   ]
  },
  {
   "cell_type": "code",
   "execution_count": 83,
   "id": "475552e3",
   "metadata": {},
   "outputs": [
    {
     "data": {
      "text/plain": [
       "dict"
      ]
     },
     "execution_count": 83,
     "metadata": {},
     "output_type": "execute_result"
    }
   ],
   "source": [
    "type(d8)"
   ]
  },
  {
   "cell_type": "code",
   "execution_count": 84,
   "id": "a166a2ab",
   "metadata": {},
   "outputs": [
    {
     "data": {
      "text/plain": [
       "dict_items"
      ]
     },
     "execution_count": 84,
     "metadata": {},
     "output_type": "execute_result"
    }
   ],
   "source": [
    "type(d8.items())"
   ]
  },
  {
   "cell_type": "raw",
   "id": "073cb993",
   "metadata": {},
   "source": [
    "Item assignment"
   ]
  },
  {
   "cell_type": "code",
   "execution_count": 86,
   "id": "aa37e7e2",
   "metadata": {},
   "outputs": [
    {
     "data": {
      "text/plain": [
       "{'name': 'sivananda',\n",
       " 'age': 24,\n",
       " 'mail': 'siva@gmail.com',\n",
       " 'key1': (2, 3, 5),\n",
       " 'key2': [2, 64, 7],\n",
       " 'key3': {3, 5, 'shs'}}"
      ]
     },
     "execution_count": 86,
     "metadata": {},
     "output_type": "execute_result"
    }
   ],
   "source": [
    "d8"
   ]
  },
  {
   "cell_type": "code",
   "execution_count": 89,
   "id": "ff231ea1",
   "metadata": {},
   "outputs": [],
   "source": [
    "d8['key4']='siva'  #adding element"
   ]
  },
  {
   "cell_type": "code",
   "execution_count": 90,
   "id": "353ea28a",
   "metadata": {},
   "outputs": [
    {
     "data": {
      "text/plain": [
       "{'name': 'sivananda',\n",
       " 'age': 24,\n",
       " 'mail': 'siva@gmail.com',\n",
       " 'key1': (2, 3, 5),\n",
       " 'key2': [2, 64, 7],\n",
       " 'key3': {3, 5, 'shs'},\n",
       " 'key4': 'siva'}"
      ]
     },
     "execution_count": 90,
     "metadata": {},
     "output_type": "execute_result"
    }
   ],
   "source": [
    "d8"
   ]
  },
  {
   "cell_type": "code",
   "execution_count": 91,
   "id": "2a39ed78",
   "metadata": {},
   "outputs": [],
   "source": [
    "d8['name'] = 'nanda' #updating existing element"
   ]
  },
  {
   "cell_type": "code",
   "execution_count": 92,
   "id": "9518e69c",
   "metadata": {},
   "outputs": [
    {
     "data": {
      "text/plain": [
       "{'name': 'nanda',\n",
       " 'age': 24,\n",
       " 'mail': 'siva@gmail.com',\n",
       " 'key1': (2, 3, 5),\n",
       " 'key2': [2, 64, 7],\n",
       " 'key3': {3, 5, 'shs'},\n",
       " 'key4': 'siva'}"
      ]
     },
     "execution_count": 92,
     "metadata": {},
     "output_type": "execute_result"
    }
   ],
   "source": [
    "d8"
   ]
  },
  {
   "cell_type": "code",
   "execution_count": 116,
   "id": "c7e2e5eb",
   "metadata": {},
   "outputs": [],
   "source": [
    "del d8['key1']"
   ]
  },
  {
   "cell_type": "code",
   "execution_count": 94,
   "id": "d9bc60a7",
   "metadata": {},
   "outputs": [
    {
     "data": {
      "text/plain": [
       "{'name': 'nanda',\n",
       " 'age': 24,\n",
       " 'mail': 'siva@gmail.com',\n",
       " 'key2': [2, 64, 7],\n",
       " 'key3': {3, 5, 'shs'},\n",
       " 'key4': 'siva'}"
      ]
     },
     "execution_count": 94,
     "metadata": {},
     "output_type": "execute_result"
    }
   ],
   "source": [
    "d8"
   ]
  },
  {
   "cell_type": "code",
   "execution_count": 95,
   "id": "068317b5",
   "metadata": {},
   "outputs": [],
   "source": [
    "del d8  #delete entire dictionary"
   ]
  },
  {
   "cell_type": "code",
   "execution_count": 96,
   "id": "33514377",
   "metadata": {},
   "outputs": [
    {
     "ename": "NameError",
     "evalue": "name 'd8' is not defined",
     "output_type": "error",
     "traceback": [
      "\u001b[1;31m---------------------------------------------------------------------------\u001b[0m",
      "\u001b[1;31mNameError\u001b[0m                                 Traceback (most recent call last)",
      "Input \u001b[1;32mIn [96]\u001b[0m, in \u001b[0;36m<cell line: 1>\u001b[1;34m()\u001b[0m\n\u001b[1;32m----> 1\u001b[0m \u001b[43md8\u001b[49m\n",
      "\u001b[1;31mNameError\u001b[0m: name 'd8' is not defined"
     ]
    }
   ],
   "source": [
    "d8"
   ]
  },
  {
   "cell_type": "code",
   "execution_count": 99,
   "id": "65c344b7",
   "metadata": {},
   "outputs": [],
   "source": [
    "d9={'name': 'nanda',\n",
    " 'age': 24,\n",
    " 'mail': 'siva@gmail.com',\n",
    " 'key2': [2, 64, 7],\n",
    " 'key3': {3, 5, 'shs'},\n",
    " 'key4': 'siva'}"
   ]
  },
  {
   "cell_type": "code",
   "execution_count": 100,
   "id": "f037bf79",
   "metadata": {},
   "outputs": [
    {
     "data": {
      "text/plain": [
       "{'name': 'nanda',\n",
       " 'age': 24,\n",
       " 'mail': 'siva@gmail.com',\n",
       " 'key2': [2, 64, 7],\n",
       " 'key3': {3, 5, 'shs'},\n",
       " 'key4': 'siva'}"
      ]
     },
     "execution_count": 100,
     "metadata": {},
     "output_type": "execute_result"
    }
   ],
   "source": [
    "d9"
   ]
  },
  {
   "cell_type": "code",
   "execution_count": 101,
   "id": "d7cc5bb8",
   "metadata": {},
   "outputs": [],
   "source": [
    "d9[(2,4,5)]= 'siva'"
   ]
  },
  {
   "cell_type": "code",
   "execution_count": 102,
   "id": "5b23f436",
   "metadata": {},
   "outputs": [
    {
     "data": {
      "text/plain": [
       "{'name': 'nanda',\n",
       " 'age': 24,\n",
       " 'mail': 'siva@gmail.com',\n",
       " 'key2': [2, 64, 7],\n",
       " 'key3': {3, 5, 'shs'},\n",
       " 'key4': 'siva',\n",
       " (2, 4, 5): 'siva'}"
      ]
     },
     "execution_count": 102,
     "metadata": {},
     "output_type": "execute_result"
    }
   ],
   "source": [
    "d9"
   ]
  },
  {
   "cell_type": "code",
   "execution_count": 103,
   "id": "e5c9b13c",
   "metadata": {},
   "outputs": [
    {
     "data": {
      "text/plain": [
       "24"
      ]
     },
     "execution_count": 103,
     "metadata": {},
     "output_type": "execute_result"
    }
   ],
   "source": [
    "d9.get('age')"
   ]
  },
  {
   "cell_type": "code",
   "execution_count": 104,
   "id": "24e1d7e5",
   "metadata": {},
   "outputs": [],
   "source": [
    "da ={'key1':'diva','key2':'nanda'}"
   ]
  },
  {
   "cell_type": "code",
   "execution_count": 105,
   "id": "1a7a0093",
   "metadata": {},
   "outputs": [],
   "source": [
    "db = {'key3':'edgd','key4':[53,7,7]}"
   ]
  },
  {
   "cell_type": "code",
   "execution_count": 106,
   "id": "7d8ea7fc",
   "metadata": {},
   "outputs": [],
   "source": [
    "da.update(db)"
   ]
  },
  {
   "cell_type": "code",
   "execution_count": 107,
   "id": "354a62a3",
   "metadata": {},
   "outputs": [
    {
     "data": {
      "text/plain": [
       "{'key1': 'diva', 'key2': 'nanda', 'key3': 'edgd', 'key4': [53, 7, 7]}"
      ]
     },
     "execution_count": 107,
     "metadata": {},
     "output_type": "execute_result"
    }
   ],
   "source": [
    "da"
   ]
  },
  {
   "cell_type": "code",
   "execution_count": 108,
   "id": "1930450d",
   "metadata": {},
   "outputs": [
    {
     "data": {
      "text/plain": [
       "{'key3': 'edgd', 'key4': [53, 7, 7]}"
      ]
     },
     "execution_count": 108,
     "metadata": {},
     "output_type": "execute_result"
    }
   ],
   "source": [
    "db"
   ]
  },
  {
   "cell_type": "code",
   "execution_count": 109,
   "id": "62867f66",
   "metadata": {},
   "outputs": [
    {
     "ename": "TypeError",
     "evalue": "unsupported operand type(s) for +: 'dict' and 'dict'",
     "output_type": "error",
     "traceback": [
      "\u001b[1;31m---------------------------------------------------------------------------\u001b[0m",
      "\u001b[1;31mTypeError\u001b[0m                                 Traceback (most recent call last)",
      "Input \u001b[1;32mIn [109]\u001b[0m, in \u001b[0;36m<cell line: 1>\u001b[1;34m()\u001b[0m\n\u001b[1;32m----> 1\u001b[0m \u001b[43mda\u001b[49m\u001b[38;5;241;43m+\u001b[39;49m\u001b[43mdb\u001b[49m\n",
      "\u001b[1;31mTypeError\u001b[0m: unsupported operand type(s) for +: 'dict' and 'dict'"
     ]
    }
   ],
   "source": [
    "da+db"
   ]
  },
  {
   "cell_type": "code",
   "execution_count": 110,
   "id": "2add0cb6",
   "metadata": {},
   "outputs": [
    {
     "data": {
      "text/plain": [
       "{'key1': 'diva', 'key2': 'nanda', 'key3': 'edgd', 'key4': [53, 7, 7]}"
      ]
     },
     "execution_count": 110,
     "metadata": {},
     "output_type": "execute_result"
    }
   ],
   "source": [
    "da"
   ]
  },
  {
   "cell_type": "code",
   "execution_count": 111,
   "id": "e5935988",
   "metadata": {},
   "outputs": [
    {
     "data": {
      "text/plain": [
       "{'key3': 'edgd', 'key4': [53, 7, 7]}"
      ]
     },
     "execution_count": 111,
     "metadata": {},
     "output_type": "execute_result"
    }
   ],
   "source": [
    "db"
   ]
  },
  {
   "cell_type": "code",
   "execution_count": 112,
   "id": "c99f61f8",
   "metadata": {},
   "outputs": [],
   "source": [
    "key = ('name','age','id')\n",
    "value = ('siva')"
   ]
  },
  {
   "cell_type": "code",
   "execution_count": 113,
   "id": "c0c3b204",
   "metadata": {},
   "outputs": [],
   "source": [
    "d = d.fromkeys(key,value)"
   ]
  },
  {
   "cell_type": "code",
   "execution_count": 114,
   "id": "eb70920c",
   "metadata": {},
   "outputs": [
    {
     "data": {
      "text/plain": [
       "{'name': 'siva', 'age': 'siva', 'id': 'siva'}"
      ]
     },
     "execution_count": 114,
     "metadata": {},
     "output_type": "execute_result"
    }
   ],
   "source": [
    "d"
   ]
  },
  {
   "cell_type": "code",
   "execution_count": null,
   "id": "3994a60b",
   "metadata": {},
   "outputs": [],
   "source": []
  }
 ],
 "metadata": {
  "kernelspec": {
   "display_name": "Python 3 (ipykernel)",
   "language": "python",
   "name": "python3"
  },
  "language_info": {
   "codemirror_mode": {
    "name": "ipython",
    "version": 3
   },
   "file_extension": ".py",
   "mimetype": "text/x-python",
   "name": "python",
   "nbconvert_exporter": "python",
   "pygments_lexer": "ipython3",
   "version": "3.9.12"
  }
 },
 "nbformat": 4,
 "nbformat_minor": 5
}
