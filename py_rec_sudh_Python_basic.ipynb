{
 "cells": [
  {
   "cell_type": "code",
   "execution_count": 1,
   "id": "54713757",
   "metadata": {},
   "outputs": [
    {
     "name": "stdout",
     "output_type": "stream",
     "text": [
      "The Zen of Python, by Tim Peters\n",
      "\n",
      "Beautiful is better than ugly.\n",
      "Explicit is better than implicit.\n",
      "Simple is better than complex.\n",
      "Complex is better than complicated.\n",
      "Flat is better than nested.\n",
      "Sparse is better than dense.\n",
      "Readability counts.\n",
      "Special cases aren't special enough to break the rules.\n",
      "Although practicality beats purity.\n",
      "Errors should never pass silently.\n",
      "Unless explicitly silenced.\n",
      "In the face of ambiguity, refuse the temptation to guess.\n",
      "There should be one-- and preferably only one --obvious way to do it.\n",
      "Although that way may not be obvious at first unless you're Dutch.\n",
      "Now is better than never.\n",
      "Although never is often better than *right* now.\n",
      "If the implementation is hard to explain, it's a bad idea.\n",
      "If the implementation is easy to explain, it may be a good idea.\n",
      "Namespaces are one honking great idea -- let's do more of those!\n"
     ]
    }
   ],
   "source": [
    "import this"
   ]
  },
  {
   "cell_type": "code",
   "execution_count": 3,
   "id": "c561e73e",
   "metadata": {},
   "outputs": [
    {
     "name": "stdout",
     "output_type": "stream",
     "text": [
      "this is my first program\n"
     ]
    }
   ],
   "source": [
    "print(\"this is my first program\")"
   ]
  },
  {
   "cell_type": "raw",
   "id": "61b33e90",
   "metadata": {},
   "source": [
    "Shift+enter to run\n",
    "Shift+tab to function info"
   ]
  },
  {
   "cell_type": "markdown",
   "id": "b02be044",
   "metadata": {},
   "source": [
    "# VARIAABLES"
   ]
  },
  {
   "cell_type": "code",
   "execution_count": 4,
   "id": "bc9be8ea",
   "metadata": {},
   "outputs": [],
   "source": [
    "a = 10 "
   ]
  },
  {
   "cell_type": "code",
   "execution_count": 5,
   "id": "2971991a",
   "metadata": {},
   "outputs": [],
   "source": [
    "siva = 28263"
   ]
  },
  {
   "cell_type": "code",
   "execution_count": 6,
   "id": "ab4a60ce",
   "metadata": {},
   "outputs": [
    {
     "data": {
      "text/plain": [
       "int"
      ]
     },
     "execution_count": 6,
     "metadata": {},
     "output_type": "execute_result"
    }
   ],
   "source": [
    "type(a)"
   ]
  },
  {
   "cell_type": "code",
   "execution_count": 7,
   "id": "190a51d7",
   "metadata": {},
   "outputs": [],
   "source": [
    "b = 45.647"
   ]
  },
  {
   "cell_type": "code",
   "execution_count": 8,
   "id": "8173ac29",
   "metadata": {},
   "outputs": [
    {
     "data": {
      "text/plain": [
       "float"
      ]
     },
     "execution_count": 8,
     "metadata": {},
     "output_type": "execute_result"
    }
   ],
   "source": [
    "type(b)"
   ]
  },
  {
   "cell_type": "code",
   "execution_count": 11,
   "id": "2523ab92",
   "metadata": {},
   "outputs": [],
   "source": [
    "c = 4+5j"
   ]
  },
  {
   "cell_type": "code",
   "execution_count": 12,
   "id": "a5a92042",
   "metadata": {},
   "outputs": [
    {
     "data": {
      "text/plain": [
       "complex"
      ]
     },
     "execution_count": 12,
     "metadata": {},
     "output_type": "execute_result"
    }
   ],
   "source": [
    "type(c)"
   ]
  },
  {
   "cell_type": "code",
   "execution_count": 13,
   "id": "99df67b9",
   "metadata": {},
   "outputs": [
    {
     "data": {
      "text/plain": [
       "(4+5j)"
      ]
     },
     "execution_count": 13,
     "metadata": {},
     "output_type": "execute_result"
    }
   ],
   "source": [
    "c"
   ]
  },
  {
   "cell_type": "markdown",
   "id": "01757a0b",
   "metadata": {},
   "source": [
    "# Name error:\n",
    "quatations are missing."
   ]
  },
  {
   "cell_type": "code",
   "execution_count": 14,
   "id": "1f4f5ff6",
   "metadata": {},
   "outputs": [
    {
     "ename": "NameError",
     "evalue": "name 'shskshallahahd' is not defined",
     "output_type": "error",
     "traceback": [
      "\u001b[1;31m---------------------------------------------------------------------------\u001b[0m",
      "\u001b[1;31mNameError\u001b[0m                                 Traceback (most recent call last)",
      "Input \u001b[1;32mIn [14]\u001b[0m, in \u001b[0;36m<cell line: 1>\u001b[1;34m()\u001b[0m\n\u001b[1;32m----> 1\u001b[0m text \u001b[38;5;241m=\u001b[39m \u001b[43mshskshallahahd\u001b[49m\n",
      "\u001b[1;31mNameError\u001b[0m: name 'shskshallahahd' is not defined"
     ]
    }
   ],
   "source": [
    "text = shskshallahahd"
   ]
  },
  {
   "cell_type": "code",
   "execution_count": 15,
   "id": "fa3ae823",
   "metadata": {},
   "outputs": [],
   "source": [
    "d = True"
   ]
  },
  {
   "cell_type": "code",
   "execution_count": 16,
   "id": "76d73ad9",
   "metadata": {},
   "outputs": [
    {
     "data": {
      "text/plain": [
       "bool"
      ]
     },
     "execution_count": 16,
     "metadata": {},
     "output_type": "execute_result"
    }
   ],
   "source": [
    "type(d)"
   ]
  },
  {
   "cell_type": "markdown",
   "id": "1caaac09",
   "metadata": {},
   "source": [
    "### variable determination"
   ]
  },
  {
   "cell_type": "code",
   "execution_count": 17,
   "id": "cfd9ac78",
   "metadata": {},
   "outputs": [
    {
     "ename": "SyntaxError",
     "evalue": "starred assignment target must be in a list or tuple (3478180553.py, line 1)",
     "output_type": "error",
     "traceback": [
      "\u001b[1;36m  Input \u001b[1;32mIn [17]\u001b[1;36m\u001b[0m\n\u001b[1;33m    *a = 76\u001b[0m\n\u001b[1;37m    ^\u001b[0m\n\u001b[1;31mSyntaxError\u001b[0m\u001b[1;31m:\u001b[0m starred assignment target must be in a list or tuple\n"
     ]
    }
   ],
   "source": [
    "*a = 76"
   ]
  },
  {
   "cell_type": "code",
   "execution_count": 18,
   "id": "55ee5dbe",
   "metadata": {},
   "outputs": [],
   "source": [
    "_d = 10"
   ]
  },
  {
   "cell_type": "markdown",
   "id": "3194adaf",
   "metadata": {},
   "source": [
    "# #Single line variable declaration"
   ]
  },
  {
   "cell_type": "code",
   "execution_count": 19,
   "id": "e6833802",
   "metadata": {},
   "outputs": [],
   "source": [
    "a = 10\n",
    "b = 'siva'\n",
    "c = 34.43\n",
    "d = 4+6j\n",
    "e = True"
   ]
  },
  {
   "cell_type": "code",
   "execution_count": 20,
   "id": "55254eea",
   "metadata": {},
   "outputs": [],
   "source": [
    "a,b,c,d,e = 10,'siva',34.43,4+6j,True"
   ]
  },
  {
   "cell_type": "markdown",
   "id": "84d3c2d4",
   "metadata": {},
   "source": [
    "# dot(.)+tab to find the inbuilt functions"
   ]
  },
  {
   "cell_type": "code",
   "execution_count": 21,
   "id": "aa544e8c",
   "metadata": {},
   "outputs": [
    {
     "data": {
      "text/plain": [
       "34.43"
      ]
     },
     "execution_count": 21,
     "metadata": {},
     "output_type": "execute_result"
    }
   ],
   "source": [
    "c"
   ]
  },
  {
   "cell_type": "code",
   "execution_count": 22,
   "id": "8334a47b",
   "metadata": {},
   "outputs": [
    {
     "data": {
      "text/plain": [
       "(4+6j)"
      ]
     },
     "execution_count": 22,
     "metadata": {},
     "output_type": "execute_result"
    }
   ],
   "source": [
    "d"
   ]
  },
  {
   "cell_type": "code",
   "execution_count": 23,
   "id": "41ed1cf8",
   "metadata": {},
   "outputs": [
    {
     "data": {
      "text/plain": [
       "6.0"
      ]
     },
     "execution_count": 23,
     "metadata": {},
     "output_type": "execute_result"
    }
   ],
   "source": [
    "d.imag"
   ]
  },
  {
   "cell_type": "code",
   "execution_count": 24,
   "id": "56870038",
   "metadata": {},
   "outputs": [
    {
     "data": {
      "text/plain": [
       "4.0"
      ]
     },
     "execution_count": 24,
     "metadata": {},
     "output_type": "execute_result"
    }
   ],
   "source": [
    "d.real"
   ]
  },
  {
   "cell_type": "code",
   "execution_count": 25,
   "id": "9e0d9c16",
   "metadata": {},
   "outputs": [
    {
     "data": {
      "text/plain": [
       "<function complex.conjugate>"
      ]
     },
     "execution_count": 25,
     "metadata": {},
     "output_type": "execute_result"
    }
   ],
   "source": [
    "d.conjugate"
   ]
  },
  {
   "cell_type": "code",
   "execution_count": 26,
   "id": "f2a97806",
   "metadata": {},
   "outputs": [
    {
     "data": {
      "text/plain": [
       "'siva'"
      ]
     },
     "execution_count": 26,
     "metadata": {},
     "output_type": "execute_result"
    }
   ],
   "source": [
    "b"
   ]
  },
  {
   "cell_type": "code",
   "execution_count": 28,
   "id": "43210e57",
   "metadata": {},
   "outputs": [
    {
     "data": {
      "text/plain": [
       "'Siva'"
      ]
     },
     "execution_count": 28,
     "metadata": {},
     "output_type": "execute_result"
    }
   ],
   "source": [
    "b.capitalize()"
   ]
  },
  {
   "cell_type": "code",
   "execution_count": 32,
   "id": "540719bf",
   "metadata": {},
   "outputs": [
    {
     "data": {
      "text/plain": [
       "1"
      ]
     },
     "execution_count": 32,
     "metadata": {},
     "output_type": "execute_result"
    }
   ],
   "source": [
    "b.count(b)"
   ]
  },
  {
   "cell_type": "code",
   "execution_count": 31,
   "id": "908cc1e9",
   "metadata": {},
   "outputs": [
    {
     "ename": "TypeError",
     "evalue": "can only concatenate str (not \"int\") to str",
     "output_type": "error",
     "traceback": [
      "\u001b[1;31m---------------------------------------------------------------------------\u001b[0m",
      "\u001b[1;31mTypeError\u001b[0m                                 Traceback (most recent call last)",
      "Input \u001b[1;32mIn [31]\u001b[0m, in \u001b[0;36m<cell line: 1>\u001b[1;34m()\u001b[0m\n\u001b[1;32m----> 1\u001b[0m \u001b[43mb\u001b[49m\u001b[43m \u001b[49m\u001b[38;5;241;43m+\u001b[39;49m\u001b[43m \u001b[49m\u001b[38;5;241;43m5\u001b[39;49m\n",
      "\u001b[1;31mTypeError\u001b[0m: can only concatenate str (not \"int\") to str"
     ]
    }
   ],
   "source": [
    "b + 5"
   ]
  },
  {
   "cell_type": "code",
   "execution_count": 33,
   "id": "ac5f22df",
   "metadata": {},
   "outputs": [
    {
     "data": {
      "text/plain": [
       "'siva4'"
      ]
     },
     "execution_count": 33,
     "metadata": {},
     "output_type": "execute_result"
    }
   ],
   "source": [
    "b+str(4)"
   ]
  },
  {
   "cell_type": "code",
   "execution_count": 34,
   "id": "861ed8af",
   "metadata": {},
   "outputs": [
    {
     "data": {
      "text/plain": [
       "2"
      ]
     },
     "execution_count": 34,
     "metadata": {},
     "output_type": "execute_result"
    }
   ],
   "source": [
    "True + True"
   ]
  },
  {
   "cell_type": "markdown",
   "id": "17ccc9a4",
   "metadata": {},
   "source": [
    "# #User input functions"
   ]
  },
  {
   "cell_type": "markdown",
   "id": "01b11b50",
   "metadata": {},
   "source": [
    "Any input from input function is treated as String"
   ]
  },
  {
   "cell_type": "code",
   "execution_count": 35,
   "id": "1403b3b5",
   "metadata": {},
   "outputs": [
    {
     "name": "stdout",
     "output_type": "stream",
     "text": [
      "sivananda\n"
     ]
    },
    {
     "data": {
      "text/plain": [
       "'sivananda'"
      ]
     },
     "execution_count": 35,
     "metadata": {},
     "output_type": "execute_result"
    }
   ],
   "source": [
    "input()"
   ]
  },
  {
   "cell_type": "markdown",
   "id": "36c31e62",
   "metadata": {},
   "source": [
    "holding user input in a variable"
   ]
  },
  {
   "cell_type": "code",
   "execution_count": 1,
   "id": "f5c67ed7",
   "metadata": {},
   "outputs": [
    {
     "name": "stdout",
     "output_type": "stream",
     "text": [
      "enter the name:Sivananda\n"
     ]
    }
   ],
   "source": [
    "name = input(\"enter the name:\")"
   ]
  },
  {
   "cell_type": "code",
   "execution_count": 2,
   "id": "8292c5d3",
   "metadata": {},
   "outputs": [
    {
     "data": {
      "text/plain": [
       "'Sivananda'"
      ]
     },
     "execution_count": 2,
     "metadata": {},
     "output_type": "execute_result"
    }
   ],
   "source": [
    "name"
   ]
  },
  {
   "cell_type": "code",
   "execution_count": 4,
   "id": "cb9b633a",
   "metadata": {},
   "outputs": [
    {
     "name": "stdout",
     "output_type": "stream",
     "text": [
      "enter the age:6475\n"
     ]
    }
   ],
   "source": [
    "age = input(\"enter the age:\")"
   ]
  },
  {
   "cell_type": "code",
   "execution_count": 5,
   "id": "e94b285c",
   "metadata": {},
   "outputs": [
    {
     "data": {
      "text/plain": [
       "'6475'"
      ]
     },
     "execution_count": 5,
     "metadata": {},
     "output_type": "execute_result"
    }
   ],
   "source": [
    "age"
   ]
  },
  {
   "cell_type": "raw",
   "id": "053a516a",
   "metadata": {},
   "source": [
    "need ot type cast to use the integer input data for mathamatical calcualtions"
   ]
  },
  {
   "cell_type": "code",
   "execution_count": 6,
   "id": "fef5ba3d",
   "metadata": {},
   "outputs": [
    {
     "data": {
      "text/plain": [
       "12949"
      ]
     },
     "execution_count": 6,
     "metadata": {},
     "output_type": "execute_result"
    }
   ],
   "source": [
    "int(age)+6474"
   ]
  },
  {
   "cell_type": "code",
   "execution_count": 7,
   "id": "c434d515",
   "metadata": {},
   "outputs": [
    {
     "ename": "TypeError",
     "evalue": "can only concatenate str (not \"int\") to str",
     "output_type": "error",
     "traceback": [
      "\u001b[1;31m---------------------------------------------------------------------------\u001b[0m",
      "\u001b[1;31mTypeError\u001b[0m                                 Traceback (most recent call last)",
      "Input \u001b[1;32mIn [7]\u001b[0m, in \u001b[0;36m<cell line: 1>\u001b[1;34m()\u001b[0m\n\u001b[1;32m----> 1\u001b[0m \u001b[43mage\u001b[49m\u001b[38;5;241;43m+\u001b[39;49m\u001b[38;5;241;43m647\u001b[39;49m\n",
      "\u001b[1;31mTypeError\u001b[0m: can only concatenate str (not \"int\") to str"
     ]
    }
   ],
   "source": [
    "age+647"
   ]
  },
  {
   "cell_type": "code",
   "execution_count": null,
   "id": "db504e25",
   "metadata": {},
   "outputs": [],
   "source": []
  }
 ],
 "metadata": {
  "kernelspec": {
   "display_name": "Python 3 (ipykernel)",
   "language": "python",
   "name": "python3"
  },
  "language_info": {
   "codemirror_mode": {
    "name": "ipython",
    "version": 3
   },
   "file_extension": ".py",
   "mimetype": "text/x-python",
   "name": "python",
   "nbconvert_exporter": "python",
   "pygments_lexer": "ipython3",
   "version": "3.9.12"
  }
 },
 "nbformat": 4,
 "nbformat_minor": 5
}
